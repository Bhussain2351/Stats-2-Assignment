{
 "cells": [
  {
   "cell_type": "code",
   "execution_count": 1,
   "id": "8f5aae74-e485-46cb-8296-6fe2a80f5bf7",
   "metadata": {},
   "outputs": [],
   "source": [
    "# 1 Ans. Generally, z-tests are used when we have large sample sizes (n > 30), \n",
    "#         whereas t-tests are most helpful with a smaller sample size (n < 30). \n",
    "#         Both methods assume a normal distribution of the data, \n",
    "#         but the z-tests are most useful when the standard deviation is known."
   ]
  },
  {
   "cell_type": "code",
   "execution_count": 2,
   "id": "d807852b-7206-4945-8f60-1a2d2621c11e",
   "metadata": {},
   "outputs": [],
   "source": [
    "# 2 Ans. A one-tailed test is based on a uni-directional hypothesis where the area of rejection is on only one \n",
    "#        side of the sampling distribution. It determines whether a particular population parameter is larger or smaller\n",
    "#        than the predefined parameter. \n",
    "#         It uses one single critical value to test the data."
   ]
  },
  {
   "cell_type": "code",
   "execution_count": 3,
   "id": "b5279f01-7afb-4992-8481-327f0dc7fd27",
   "metadata": {},
   "outputs": [],
   "source": [
    "# 3 Ans. A type I error appears when the null hypothesis (H0) of an experiment is true, but still, it is rejected. \n",
    "       \n",
    "#        A type II error appears when the null hypothesis is false but mistakenly fails to be refused. \n",
    "#         It is losing to state what is present and a miss. A type II error is also known as false negative \n",
    "#         (where a real hit was rejected by the test and is observed as a miss), \n",
    "#         in an experiment checking for a condition with a final outcome of true or false."
   ]
  },
  {
   "cell_type": "code",
   "execution_count": 4,
   "id": "4288bed6-94a0-4a54-8b99-678528353516",
   "metadata": {},
   "outputs": [],
   "source": [
    "# 4 Ans. Bayes’ theorem describes the probability of occurrence of an event related to any condition. \n",
    "#        It is also considered for the case of conditional probability"
   ]
  },
  {
   "cell_type": "code",
   "execution_count": 5,
   "id": "c9ac41af-ac15-420d-a125-d43e86e9a3a9",
   "metadata": {},
   "outputs": [],
   "source": [
    "# 5 Ans. A confidence interval is the mean of your estimate plus and minus the variation in that estimate. \n",
    "#     This is the range of values you expect your estimate to fall between if you redo your test, \n",
    "#        within a certain level of confidence."
   ]
  },
  {
   "cell_type": "code",
   "execution_count": 6,
   "id": "6467b1ac-6516-4e9d-822c-2f66bdf0ac8b",
   "metadata": {},
   "outputs": [],
   "source": [
    "# 6 Ans. Bayes' Theorem, named after 18th-century British mathematician Thomas Bayes, is a mathematical \n",
    "#      formula for determining conditional probability. Conditional probability is the likelihood of an outcome \n",
    "#     occurring based on a previous outcome in similar circumstances. Bayes' Theorem provides a way to revise\n",
    "#      existing predictions or \n",
    "#     theories (update probabilities) given new or additional evidence."
   ]
  },
  {
   "cell_type": "code",
   "execution_count": 7,
   "id": "a265778c-33be-49c0-bea2-9429339c6068",
   "metadata": {},
   "outputs": [],
   "source": [
    "# 7 Ans. If we calculate a 95% confidence interval for a population’s average height, and we randomly select a sample of \n",
    "#        50 students and calculate their average height to be 165 cm for instance, and the result is a range of 160 to 170\n",
    "#        cm, this suggests that if we were to take multiple samples and create confidence intervals in the same manner,\n",
    "#         we should anticipate that approximately 95% of those intervals would contain \n",
    "#         the population’s true average height."
   ]
  },
  {
   "cell_type": "code",
   "execution_count": 1,
   "id": "469340e3-415b-4ffe-a9bf-acad1667a8d5",
   "metadata": {},
   "outputs": [],
   "source": [
    "# 8 Ans. The margin of error at 95% confidence is about equal to or smaller than the square root of the reciprocal of \n",
    "#        the sample size."
   ]
  },
  {
   "cell_type": "code",
   "execution_count": 2,
   "id": "bf91f5b5-9aab-44ce-8331-854d9d131e8c",
   "metadata": {},
   "outputs": [],
   "source": [
    "# 9 Ans.\n",
    "# To answer this question, can be re-phrase it as What percentage (or number) of students scored higher \n",
    "# than Ram and what percentage (or number) of students scored lower than Ram? First, let’s reiterate \n",
    "# that Ram scored 70 out of 100, the mean score was 60, and the standard deviation was 15.\n",
    "\n",
    "# Score (x)\tMean (x̅)\tStandard Deviation (σ)\n",
    "# English Coursework\t70\t60\t15\n",
    "# Z Score = (x − x̅ )/σ\n",
    "\n",
    "# = (70 – 60)/ 15\n",
    "\n",
    "# = 10/15\n",
    "\n",
    "# = 0.6667\n",
    "\n",
    "# The z-score is 0.67 (to 2 decimal places), but now we need to work out the percentage (or number) of students \n",
    "# that scored higher and lower than Ram"
   ]
  },
  {
   "cell_type": "code",
   "execution_count": 3,
   "id": "cdf97248-041d-49f3-b2ff-e9d2eeeb70ee",
   "metadata": {},
   "outputs": [],
   "source": [
    "# 10 Ans. A one sample test of means compares the mean of a sample to a pre-specified value and\n",
    "# tests for a deviation from that value. For example we might know that the average birth weight \n",
    "# for white babies in the US is 3,410 grams and wish to compare the average birth weight of a sample of black \n",
    "# babies to this value.\n",
    "\n",
    " \n",
    "\n",
    "# Assumptions\n",
    "\n",
    "# Independent observations.\n",
    "# The population from which the data is sampled is normally distributed.\n",
    "# Hypothesis:\n",
    "\n",
    "  \n",
    "\n",
    "# where μ0 is a pre-specified value (in our case this would be 3,410 grams)."
   ]
  },
  {
   "cell_type": "code",
   "execution_count": null,
   "id": "bd334d83-63c5-40b4-970a-30100dcc168c",
   "metadata": {},
   "outputs": [],
   "source": []
  }
 ],
 "metadata": {
  "kernelspec": {
   "display_name": "Python 3 (ipykernel)",
   "language": "python",
   "name": "python3"
  },
  "language_info": {
   "codemirror_mode": {
    "name": "ipython",
    "version": 3
   },
   "file_extension": ".py",
   "mimetype": "text/x-python",
   "name": "python",
   "nbconvert_exporter": "python",
   "pygments_lexer": "ipython3",
   "version": "3.10.8"
  }
 },
 "nbformat": 4,
 "nbformat_minor": 5
}
